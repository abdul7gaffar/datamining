{
  "nbformat": 4,
  "nbformat_minor": 0,
  "metadata": {
    "colab": {
      "name": "ECS766_Lab_1.ipynb",
      "provenance": [],
      "collapsed_sections": [
        "FYZv8R_TImsZ"
      ]
    },
    "kernelspec": {
      "name": "python3",
      "display_name": "Python 3"
    }
  },
  "cells": [
    {
      "cell_type": "markdown",
      "metadata": {
        "id": "oDwYmglELzV7",
        "colab_type": "text"
      },
      "source": [
        "# <font color='gray'> Lab 1: Basic Data Exploration & Visualisation: Getting to Know Your Data </font>"
      ]
    },
    {
      "cell_type": "markdown",
      "metadata": {
        "id": "FYZv8R_TImsZ",
        "colab_type": "text"
      },
      "source": [
        "## 0. Introduction \n",
        "\n",
        "The purpose of this introductory lab is to familiarise you with  **basic exploratory data analysis** of a sample dataset. We will first be using  the Python's **pandas** package in this **notebook** environment. Next, we use  ***Weka***, a java-based data-mining software with a GUI. \n",
        "\n",
        "*This session <ins>is a warm-up that will not count toward your final grade</ins>.*\n",
        "\n"
      ]
    },
    {
      "cell_type": "markdown",
      "metadata": {
        "id": "qx5GxUx1DS5z",
        "colab_type": "text"
      },
      "source": [
        "**Before we start:** this environment that allows us to enter both text and run codes interactively, is called ***[notebook](https://jupyter.org/)***).\n",
        "\n",
        "There are two types of cells: *Text* and *Code*. You can add your own cells. You can also edit the texts by double-clicking on them. It follows the [markup rules](https://github.com/adam-p/markdown-here/wiki/Markdown-Cheatsheet). \n",
        "\n",
        "In order to execute (run) a cell, you can use one of the following ways:\n",
        "\n",
        "0. `Shift + Enter` : executes a cell and goes to the next one.\n",
        "1. `Ctrl + Enter` : executes a block but stays at the same block. This is equivalent to clicking on the *run* butten to the left of the cell, which appears when you hover the mouse over the `[ ]` icon. \n",
        "2. Use the `Runtime` tab (at the top of the page), which gives you more options as well.\n",
        "\n",
        "Now, test your knowledge(!) by running the next cell (the output should appear right after):"
      ]
    },
    {
      "cell_type": "code",
      "metadata": {
        "id": "v0T8VcP9DSWe",
        "colab_type": "code",
        "colab": {}
      },
      "source": [
        "for i in range(5):\n",
        "  print('{:2d} - Welcome to the Data Mining lab!'.format(2**i))"
      ],
      "execution_count": 0,
      "outputs": []
    },
    {
      "cell_type": "markdown",
      "metadata": {
        "id": "T_hB_CXQNTho",
        "colab_type": "text"
      },
      "source": [
        "As you might have noticed, we will be using Python codes. Let's have a word on why `Python`? \n",
        "\n",
        "*Well, for one, it is the most preferred language among data scientist, according to [this poll](https://www.kdnuggets.com/2018/05/poll-tools-analytics-data-science-machine-learning-results.html).\n",
        "Also it helps that it is a general purpose programming language with a simple syntax. It also has a lot of great open-source libraries -- which, in Python, we call them `packages` -- developed by an actve community. If interested, [read more](https://www.cbtnuggets.com/blog/technology/data/why-data-scientists-love-python) on why Python is particularly so popular among data scientist.*"
      ]
    },
    {
      "cell_type": "markdown",
      "metadata": {
        "id": "A0dzRa5JLXwm",
        "colab_type": "text"
      },
      "source": [
        "#### Some more `notebook` cool tricks:\n"
      ]
    },
    {
      "cell_type": "markdown",
      "metadata": {
        "id": "Yqt3m-dISdQH",
        "colab_type": "text"
      },
      "source": [
        "- You can use the **`tab`** button for auto-completing. You can also use `tab` after a **`dot`** to be shown a drop-down list of the available attributes and methods on an object or a class. For instance, let's create a string object called `mystring` (by executing the first cell), and use the `tab` key after a `dot` to see a list of available attributes and methods for a string object in Python (in the second cell: don't run it, just use the tab key after dot!)."
      ]
    },
    {
      "cell_type": "code",
      "metadata": {
        "id": "5lWMrlANLVgS",
        "colab_type": "code",
        "colab": {}
      },
      "source": [
        "mystring = '  Hello, World!'"
      ],
      "execution_count": 0,
      "outputs": []
    },
    {
      "cell_type": "code",
      "metadata": {
        "id": "AaQ7X-h6OVOm",
        "colab_type": "code",
        "colab": {}
      },
      "source": [
        "mystring."
      ],
      "execution_count": 0,
      "outputs": []
    },
    {
      "cell_type": "markdown",
      "metadata": {
        "id": "p7v8mCdQOpgZ",
        "colab_type": "text"
      },
      "source": [
        "> Note that in Python, every variables is an objects. \n",
        ">Also by now, you shoul have noticed that we don't need to explicitly declare variables and their types in Python before using them!\n",
        "\n",
        "> Another thing to keep in mind is that objects and functions (runtime variables) persist between different cells in the same notebook session. If you want to clear the memroy, you can choose \"`Reset all runtimes...`\" under the \"`Runtime`\" tab from the top-left menue. \n"
      ]
    },
    {
      "cell_type": "markdown",
      "metadata": {
        "id": "9FjvhE_VR2BC",
        "colab_type": "text"
      },
      "source": [
        "- Another cool point about the `notebook` environment is that if you want to get help on anything (a method, a function, an object, etc), you can just put a question mark in front of it and execute that line. For instance, let's get help on what the `strip` method does on a string oject, by executing the folloing cell:"
      ]
    },
    {
      "cell_type": "code",
      "metadata": {
        "id": "RJTJ4wLFSXTz",
        "colab_type": "code",
        "colab": {}
      },
      "source": [
        "mystring.strip?\n",
        "# This opens the help on the method \"strip\" at the bottom of this\n",
        "# page. You can close the help page after reading it.\n",
        "# By the way, this is how we designate a comment line in Python!"
      ],
      "execution_count": 0,
      "outputs": []
    },
    {
      "cell_type": "markdown",
      "metadata": {
        "id": "RQrmMEyJU9wa",
        "colab_type": "text"
      },
      "source": [
        "From now on, we may give a hint about answering a question by putting a question mark in front of a command to open the help page for it for you. Your task is to complete the command. "
      ]
    },
    {
      "cell_type": "code",
      "metadata": {
        "id": "WOhjRZRZVIVC",
        "colab_type": "code",
        "colab": {}
      },
      "source": [
        "print(mystring)\n",
        "print(mystring.strip())"
      ],
      "execution_count": 0,
      "outputs": []
    },
    {
      "cell_type": "markdown",
      "metadata": {
        "id": "KKlNqAg6MzRP",
        "colab_type": "text"
      },
      "source": [
        "## 1.   Explore the Dataset -- using Python's `Pandas`"
      ]
    },
    {
      "cell_type": "markdown",
      "metadata": {
        "id": "jMy4U6wpdclq",
        "colab_type": "text"
      },
      "source": [
        "Here, we are going to perform some basic *exploratory data analysis* on some sample data. The data is about the \"cars for sale\", which was collected in Summer 2014 from the website _Autotrader.com_,  by one of our MSc student who worked on a data mining project. The data is saved in a CSV file, called **`LondonCars.csv`**."
      ]
    },
    {
      "cell_type": "markdown",
      "metadata": {
        "id": "MGVOTd6ml6NT",
        "colab_type": "text"
      },
      "source": [
        "---\n",
        "> **Q0:** Why are such files called `CSV`? (Find out what CSV stands for. It may also help to try and open the fie using a basic text editor).\n"
      ]
    },
    {
      "cell_type": "markdown",
      "metadata": {
        "id": "dNKGLzR0OTSj",
        "colab_type": "text"
      },
      "source": [
        "> **A0:** (*you can use this space to write your answer for your own note taking! Just double-click on this cell*)\n",
        "---"
      ]
    },
    {
      "cell_type": "markdown",
      "metadata": {
        "id": "mD3zkB8aF2NX",
        "colab_type": "text"
      },
      "source": [
        "#### 0.   Upload the CSV file to this machine.\n",
        "\n"
      ]
    },
    {
      "cell_type": "markdown",
      "metadata": {
        "id": "ZvDYSO7gPnfU",
        "colab_type": "text"
      },
      "source": [
        ">-   On the left side of this page, click on the arrow to \"Open the left pane\". \n",
        "-   From the \"Files\" tab, click on `UPLOAD`\n",
        "- Choose the CSV file that you downloaded from QM+ to your local machine, to be uploaded to *this machine*.\n",
        "\n",
        ">_Note:_ *By \"this machine\", we mean the virtual machine that is allocated to your account and running this notebook, hosted by Google Comptute Engine. Note that next time you log in, the file may be gone and needs to be re-uplaoded, as Google recycles Virtual machines when they are idle for a while.*"
      ]
    },
    {
      "cell_type": "markdown",
      "metadata": {
        "id": "5m8tYlpfNJ93",
        "colab_type": "text"
      },
      "source": [
        "\n",
        "\n",
        "#### 1.   Load the dataset from the CSV file:\n",
        "\n"
      ]
    },
    {
      "cell_type": "markdown",
      "metadata": {
        "id": "k0gxX165m7JI",
        "colab_type": "text"
      },
      "source": [
        "We will use a package in Python called [pandas](https://pandas.pydata.org/): it has many useful features to work with structured data, and is popualr for its ease of use (and as is the case for any Python package, it is [open-source](https://github.com/pandas-dev/pandas)).\n"
      ]
    },
    {
      "cell_type": "markdown",
      "metadata": {
        "id": "gFA_eR7m516a",
        "colab_type": "text"
      },
      "source": [
        "So, let's start by reading the csv file into a `pandas' DataFrame`:\n",
        "\n",
        "(Note that we use **`import`** to (guess what) import a package in Python! We can also assign a different name (alias) to it, usually a shorthand name for convenience. For example, we typically `import pandas as pd`, because we lazy!)\n",
        "\n",
        "Execute the following code block. \n",
        "\n",
        "\n",
        "\n",
        " \n"
      ]
    },
    {
      "cell_type": "code",
      "metadata": {
        "id": "KjvGRNGgNnzF",
        "colab_type": "code",
        "cellView": "both",
        "colab": {}
      },
      "source": [
        "import pandas as pd\n",
        "df = pd.read_csv('./LondonCars2014.csv')"
      ],
      "execution_count": 0,
      "outputs": []
    },
    {
      "cell_type": "markdown",
      "metadata": {
        "id": "p_m8B7bVT98P",
        "colab_type": "text"
      },
      "source": [
        "Let's get more information about the `read_csv` method that we used by executing the folloing cell:"
      ]
    },
    {
      "cell_type": "code",
      "metadata": {
        "id": "zFLpA98_QmZa",
        "colab_type": "code",
        "colab": {}
      },
      "source": [
        "pd.read_csv?"
      ],
      "execution_count": 0,
      "outputs": []
    },
    {
      "cell_type": "markdown",
      "metadata": {
        "id": "exMOTcLuU20P",
        "colab_type": "text"
      },
      "source": [
        "---\n",
        "> **Q1:** You should notice that the command has many options. When these options are not specified, their default values are taken. For example, find out what these default values were for our `read_csv`. Also find out, in particular, what the options `sep`, `header`, `index_col`, `usecols`, `dtype`, `na_values`, and `encoding` do."
      ]
    },
    {
      "cell_type": "markdown",
      "metadata": {
        "id": "rt0KmDoOWURV",
        "colab_type": "text"
      },
      "source": [
        "> **A1:** \n",
        "---"
      ]
    },
    {
      "cell_type": "markdown",
      "metadata": {
        "id": "9izm3YejNhhM",
        "colab_type": "text"
      },
      "source": [
        "\n",
        "\n",
        "#### 2.   Get general information about the data:\n",
        "\n"
      ]
    },
    {
      "cell_type": "markdown",
      "metadata": {
        "id": "_OM7Gcip50oE",
        "colab_type": "text"
      },
      "source": [
        "So far, we have read the csv file into a variable we called **`df`**: it is a pandas `DataFrame` object that contains the information in the csv file, along with many useful attributes and methods. For isntance, let's print the first few entries along with the column names, to get a quick feeling about the data:\n"
      ]
    },
    {
      "cell_type": "code",
      "metadata": {
        "id": "OyU38RdluTuA",
        "colab_type": "code",
        "colab": {}
      },
      "source": [
        "df.head()"
      ],
      "execution_count": 0,
      "outputs": []
    },
    {
      "cell_type": "markdown",
      "metadata": {
        "id": "14A7tQYoV8PH",
        "colab_type": "text"
      },
      "source": [
        "We still don't know if the data-types are read correctly, we didn't specify them. The `info` method gives us a summary information: "
      ]
    },
    {
      "cell_type": "code",
      "metadata": {
        "id": "cOKXPWk3N6sm",
        "colab_type": "code",
        "colab": {}
      },
      "source": [
        "df.info?"
      ],
      "execution_count": 0,
      "outputs": []
    },
    {
      "cell_type": "markdown",
      "metadata": {
        "id": "C5LylI4xWT9N",
        "colab_type": "text"
      },
      "source": [
        "You should notice that the data-types are not exactly correct. For instance, the type for the `Doors` attribute (column) is infered as numeric (64-bit integer), but this is wrong (why?). \n",
        "\n",
        "So let's fix them! "
      ]
    },
    {
      "cell_type": "code",
      "metadata": {
        "id": "vZjVv-6mXrAe",
        "colab_type": "code",
        "colab": {}
      },
      "source": [
        "df = df.astype({'Make':'category', 'Model':'category', 'Year':'category', \n",
        "                'Mileage':'int32', 'Price':'int64', 'Body Style':'category', \n",
        "                'Ex Color':'category' , 'In Color':'category', \n",
        "                'Engine':'category', 'Transmission':'category', 'Doors':'category'})"
      ],
      "execution_count": 0,
      "outputs": []
    },
    {
      "cell_type": "code",
      "metadata": {
        "id": "CivnwTo2ZtME",
        "colab_type": "code",
        "colab": {}
      },
      "source": [
        "Now, use the `info` method again to check if it it had the desied effect:"
      ],
      "execution_count": 0,
      "outputs": []
    },
    {
      "cell_type": "markdown",
      "metadata": {
        "id": "jeNSjWhdcFu6",
        "colab_type": "text"
      },
      "source": [
        "---\n",
        "> **Q2:** You should also notice a change between the reported `memory ussage` (the last line reported by the `info` method). What is the change? How do you explain the change?"
      ]
    },
    {
      "cell_type": "markdown",
      "metadata": {
        "id": "id8BF8wvb9g8",
        "colab_type": "text"
      },
      "source": [
        "> **A2:** \n",
        "---\n"
      ]
    },
    {
      "cell_type": "markdown",
      "metadata": {
        "id": "HG2CamjdPfFs",
        "colab_type": "text"
      },
      "source": [
        "\n",
        "\n",
        "### 3. Basic exploratory questions using Python\n",
        "\n"
      ]
    },
    {
      "cell_type": "markdown",
      "metadata": {
        "id": "8yo2wMMFdINB",
        "colab_type": "text"
      },
      "source": [
        "---\n",
        "> **Q3:** Use the provided hints to answer the questions about exploring your dataset."
      ]
    },
    {
      "cell_type": "markdown",
      "metadata": {
        "id": "LIDYDNj7TJdd",
        "colab_type": "text"
      },
      "source": [
        "> a. How many instances does the dataset have?"
      ]
    },
    {
      "cell_type": "code",
      "metadata": {
        "id": "PHyGIQ2OTwfl",
        "colab_type": "code",
        "colab": {}
      },
      "source": [
        "# hint: interpret the output of the following code:\n",
        "print(df.shape)"
      ],
      "execution_count": 0,
      "outputs": []
    },
    {
      "cell_type": "markdown",
      "metadata": {
        "id": "IGbvaybkUIUR",
        "colab_type": "text"
      },
      "source": [
        "> b. How many attributes?"
      ]
    },
    {
      "cell_type": "code",
      "metadata": {
        "id": "Lq38Z5FVRQ5i",
        "colab_type": "code",
        "colab": {}
      },
      "source": [
        "# again, you can answer the question by interpretting the output of the same code:\n",
        "print(df.shape)"
      ],
      "execution_count": 0,
      "outputs": []
    },
    {
      "cell_type": "markdown",
      "metadata": {
        "id": "8SPh2orQW8KG",
        "colab_type": "text"
      },
      "source": [
        "> c. What are the attributes?"
      ]
    },
    {
      "cell_type": "code",
      "metadata": {
        "id": "BzDyp-DvXDiw",
        "colab_type": "code",
        "colab": {}
      },
      "source": [
        "# a pandas dataframe has an an attribute called columns:\n",
        "print(df.columns)"
      ],
      "execution_count": 0,
      "outputs": []
    },
    {
      "cell_type": "markdown",
      "metadata": {
        "id": "5CvTYxKMXQ_5",
        "colab_type": "text"
      },
      "source": [
        "> d. What are the possible values for **Body Style** & **External Color**?"
      ]
    },
    {
      "cell_type": "code",
      "metadata": {
        "id": "-bIdyCeWXhFG",
        "colab_type": "code",
        "colab": {}
      },
      "source": [
        "# the \"unique\" method helps: \n",
        "print('Possible body styles:')\n",
        "print(df['Body Style'].unique())\n",
        "\n",
        "# now your turn, for external colour:\n",
        "print('\\nPossible external colours:')\n",
        "print('?')"
      ],
      "execution_count": 0,
      "outputs": []
    },
    {
      "cell_type": "markdown",
      "metadata": {
        "id": "nNED-99zZf6w",
        "colab_type": "text"
      },
      "source": [
        "> e. What is the *minimum*, *maximum*, *average* and *median* price?"
      ]
    },
    {
      "cell_type": "code",
      "metadata": {
        "id": "NRvSaH7IZppP",
        "colab_type": "code",
        "colab": {}
      },
      "source": [
        "# these are easy, to get the minimum:\n",
        "print('min = {}'.format(df['Price'].min()))\n",
        "# now, you do the rest:\n",
        "print('max = {}'.format('?'))\n",
        "print('mean = {}'.format('?'))\n",
        "print('median = {}'.format('?'))\n"
      ],
      "execution_count": 0,
      "outputs": []
    },
    {
      "cell_type": "markdown",
      "metadata": {
        "id": "vm4fAH2RbHuX",
        "colab_type": "text"
      },
      "source": [
        "> f. Why might the median price be different than the average price?"
      ]
    },
    {
      "cell_type": "markdown",
      "metadata": {
        "id": "Yk9PQPvIbQpl",
        "colab_type": "text"
      },
      "source": [
        "> g. What is the most common year of car?"
      ]
    },
    {
      "cell_type": "code",
      "metadata": {
        "id": "b2mcEe-hbrpc",
        "colab_type": "code",
        "colab": {}
      },
      "source": [
        "# hint: you can either use the 'mode()' method, \n",
        "# or the value_counts() along with idxmax()\n",
        "print('?')"
      ],
      "execution_count": 0,
      "outputs": []
    },
    {
      "cell_type": "markdown",
      "metadata": {
        "id": "2XLXYcq7cd9F",
        "colab_type": "text"
      },
      "source": [
        "> f. What is the ratio of 2-door to 4-door cars? "
      ]
    },
    {
      "cell_type": "code",
      "metadata": {
        "id": "fZrDVln8bAVc",
        "colab_type": "code",
        "colab": {}
      },
      "source": [
        "# Hint: you can use the output of the value_counts()...\n",
        "print(df['Doors'].value_counts())\n",
        "print('\\nThe ratio of 2-door to 4-door cars is: {}'.format('?'))"
      ],
      "execution_count": 0,
      "outputs": []
    },
    {
      "cell_type": "markdown",
      "metadata": {
        "id": "BbxDhMO0dj6h",
        "colab_type": "text"
      },
      "source": [
        "> g. What is the average price of a Honda car versus a Mercedes-Benz car? **Hint:** Try $\\texttt{df.loc}$."
      ]
    },
    {
      "cell_type": "code",
      "metadata": {
        "id": "T6yes3WGdvJ2",
        "colab_type": "code",
        "colab": {}
      },
      "source": [
        "# For Honda:\n",
        "print('Average price of a Honda car = {:.2f}'.format(df.loc[df['Make'] == 'Honda']['Price'].mean()))\n",
        "# Now you do for Mercedes-Benz:\n",
        "print('Average price of a Mercedes-Benz car = {:.2f}'.format(0.00))\n"
      ],
      "execution_count": 0,
      "outputs": []
    },
    {
      "cell_type": "markdown",
      "metadata": {
        "id": "FWoLpa4kld5u",
        "colab_type": "text"
      },
      "source": [
        "---"
      ]
    },
    {
      "cell_type": "markdown",
      "metadata": {
        "id": "ZViWoH9Pk2g3",
        "colab_type": "text"
      },
      "source": [
        "### 4. Basic data visualisation using Python\n"
      ]
    },
    {
      "cell_type": "markdown",
      "metadata": {
        "id": "Qn_a3nqYXH8N",
        "colab_type": "text"
      },
      "source": [
        "---\n",
        "> **Q4:** Execute the following command and interpret what the plot is showing. In particular, describe the general trend between `milage` and `price`, as well as `milage` and `year`."
      ]
    },
    {
      "cell_type": "markdown",
      "metadata": {
        "id": "xztMxUgTl6Vx",
        "colab_type": "text"
      },
      "source": [
        "> **A4:**\n",
        "---"
      ]
    },
    {
      "cell_type": "code",
      "metadata": {
        "id": "h9MF9IA2mBAE",
        "colab_type": "code",
        "colab": {}
      },
      "source": [
        "import seaborn as sns\n",
        "import matplotlib.pyplot as plt\n",
        "sns.pairplot(df)"
      ],
      "execution_count": 0,
      "outputs": []
    },
    {
      "cell_type": "markdown",
      "metadata": {
        "id": "gj0VhZ_3MIXj",
        "colab_type": "text"
      },
      "source": [
        "## 2.   Explore the Dataset &mdash; Weka\n",
        "\n"
      ]
    },
    {
      "cell_type": "markdown",
      "metadata": {
        "id": "KmrdT0L8GaKE",
        "colab_type": "text"
      },
      "source": [
        "In this part we will explore the same data with Weka data mining software. This type of exploratory analysis is typical when you are faced with a new dataset that you need to understand before trying to solve a specific problem. \n",
        "\n",
        ">\n",
        "#### 0. Start Weka Explorer.\n",
        ">Note that Weka is installed in your own local machine. Ask for help if you cannot find it!\n",
        ">\n",
        "#### 1. Open the dataset: \n",
        ">Use the same dataset (`LondonCars.csv`) that you have downloaded from QM+ to your own machine.\n",
        ">\n",
        ">`Open → Select csv → LondonCars.csv`. \n",
        ">\n",
        ">You can click `edit` to see the raw data in a spreadsheet style.\n",
        ">\n",
        "\n",
        ">---\n",
        ">a. Again, find out how many instances, and attributes the dataset has?\n",
        "\n",
        ">b. By clicking on an attribute in the `Attributes` panel, you can see its type, possible values (discrete), or statistics (continuous) in the `Selected\n",
        "Attribute` panel.\n",
        "\n",
        ">c. Which attributes are continuous (numeric) or discrete (nominal/categorical)?\n",
        "\n",
        ">d. What are the possible body styles? Which is the most and least common body style?\n",
        "\n",
        ">e. What are the most and least popular external body colors?\n",
        "\n",
        ">f. What is the minimum, maximum and average values for mileage and price?\n",
        "\n",
        ">g. Looking at the histogram for those attributes, do they look Gaussian (bell curve) distributed? Are there outliers?\n",
        "\n",
        ">---\n",
        ">\n",
        "#### 2. If you use the `Class` pulldown in the `Selected Attribute` panel. You can color the histogram of one attribute according to another attribute.\n",
        ">\n",
        ">\n",
        "#### 3. Select \"Body style\" attribute and \"Body style\" class. Note the color corresponding to each body type.\n",
        ">>\n",
        ">---\n",
        "> a. Select `Make attribute`, keeping body style coloring. Which car company only makes \"SUV\" style cars?\n",
        "\n",
        "> b. Which car company makes the most \"Coupe\" style cars?\n",
        "\n",
        ">---\n",
        "\n",
        "#### 4. The \"Doors\" attribute has been interpreted as numeric. \n",
        "\n",
        ">---\n",
        ">a. How many unique doors are there? \n",
        "\n",
        ">---\n",
        "#### 5. To use it as a class for coloring, we should convert it to nominal.\n",
        ">Click `Filter → Unsupervised → NumericToNominal`. Click the box next to the filter and choose attribute index = 11 (index of doors) and press apply. Be careful not to apply to all attributes, or they will all become nominal.\n",
        "\n",
        "> Click the doors attribute and observe the coloring of each door configuration.\n",
        ">\n",
        "#### 6. Now select body style attribute and color it by doors class.\n",
        ">>\n",
        ">---\n",
        "> a. Which car types always come with 2 doors? Which always come with 4\n",
        "doors?\n",
        "\n",
        "> b. Which car types come in a mix of door configurations?\n",
        "\n",
        ">c. For each class attribute, you can click `Visualize All` to see each attribute histogram in those colors. See what other patterns you can find.\n",
        "\n",
        ">---\n"
      ]
    },
    {
      "cell_type": "markdown",
      "metadata": {
        "id": "M355bB3aCvB2",
        "colab_type": "text"
      },
      "source": [
        "## 3.   Finding Correlations &mdash; Weka\n",
        "\n"
      ]
    },
    {
      "cell_type": "markdown",
      "metadata": {
        "id": "XBDnqmEEGl_Q",
        "colab_type": "text"
      },
      "source": [
        "#### 0. Switch to the <font color='blue'>visualization view</font> in Weka Explorer. \n",
        "\n",
        ">This can plot any pair of attributes against each other. Click on any panel to bring up a plot. On these plots every instance (record or row) in the database is shown as a point. If you click on any point it will bring up a window showing you the details of that instance (car).\n",
        ">\n",
        ">\n",
        "#### 1. Select `X`: \"Mileage\", `Y`: \"Price\". What do you observe about the relation between the two?\n",
        ">>\n",
        ">---\n",
        "> a. Is there any correlation? Is it linear?\n",
        "\n",
        ">b. You can simultaneously color the plot by any other variable.\n",
        "\n",
        ">c. What do you observe when coloring by price?\n",
        "\n",
        ">d. When coloring by Engine size, what is the impact of 8, 6 or 4 cylinder engines?\n",
        ">\n",
        ">---\n",
        "#### 2. Plot `X`: \"External Color\", against `Y`: \"Price\"\n",
        ">\n",
        ">---\n",
        ">a. Which color looks like they get the highest valuation overall?\n",
        "\n",
        ">b. Which color gets the lowest valuation overall? Use the `Jitter` slider to\n",
        "slightly spread out all the points that are on top of each other.\n",
        ">\n",
        ">---\n",
        "#### 3. Looking at the least valuable color:\n",
        ">\n",
        ">---\n",
        ">a. How many cars with that color are shown?\n",
        "\n",
        ">b. Click on a car (data point) of that category, what make is it?\n",
        "\n",
        ">c. Is it safe to conclude that cars with that color are generally very likely to be cheap?\n",
        "\n",
        ">---"
      ]
    },
    {
      "cell_type": "markdown",
      "metadata": {
        "id": "luP_3ngmCu7a",
        "colab_type": "text"
      },
      "source": [
        "## 4.   Making Predictions &mdash; Weka\n",
        "\n"
      ]
    },
    {
      "cell_type": "markdown",
      "metadata": {
        "id": "dAfD7Sq5Gq-h",
        "colab_type": "text"
      },
      "source": [
        "> Lets try to build a car-price predictor. This would be useful for a used car business to know how much to offer to pay for a used car, and how much to sell it for.\n",
        ">\n",
        ">\n",
        "#### 0. Switch back to the <font color='blue'>Preprocess view</font>. \n",
        "\n",
        ">Remove all attributes besides the numeric ones: \"Year\", \"Mileage\", \"Price\". (Click the nominal attributes and then press Remove). In later exercises we will get back to predictions using nominal inputs.\n",
        ">\n",
        ">\n",
        "#### 1. Switch to <font color='blue'>classify view</font>.\n",
        ">\n",
        ">Under classifier. Choose `Classifiers → Functions → Linear Regression`.\n",
        "\n",
        ">Make sure \"Price\" is selected as the target variable to predict in the drop-down box, and press start.\n",
        ">\n",
        ">\n",
        "#### 2. Observe the results in the output panel:\n",
        ">\n",
        ">The regression model discovers the values of `A`, `B`, and `C` in an equation of the form $Price = A\\times Year+B \\times Mileage+C$. It can then use this equation to predict the price of a new car.\n",
        "\n",
        ">---\n",
        ">a. What is the value of every Year of car age?\n",
        "\n",
        ">b. How much value does every mile of driving loose?\n",
        "\n",
        ">c. The mean absolute error is the average difference between the predicted\n",
        "price of each car and the true price. What is it in this case?\n",
        "\n",
        ">d. Do you think this an acceptable level of prediction accuracy for a used car business? What could we do to improve the accuracy?\n",
        "\n",
        ">---\n"
      ]
    }
  ]
}